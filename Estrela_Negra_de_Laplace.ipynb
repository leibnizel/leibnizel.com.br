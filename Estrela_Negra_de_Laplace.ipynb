{
  "nbformat": 4,
  "nbformat_minor": 0,
  "metadata": {
    "colab": {
      "name": "Estrela Negra de Laplace.ipynb",
      "provenance": [],
      "authorship_tag": "ABX9TyNq9hBde4tKz87CX8Fn0jum"
    },
    "kernelspec": {
      "name": "python3",
      "display_name": "Python 3"
    }
  },
  "cells": [
    {
      "cell_type": "code",
      "metadata": {
        "id": "56rlE6snT9_V"
      },
      "source": [
        "import sympy as sp\r\n",
        "%matplotlib inline\r\n",
        "sp.init_printing()"
      ],
      "execution_count": 1,
      "outputs": []
    },
    {
      "cell_type": "code",
      "metadata": {
        "colab": {
          "base_uri": "https://localhost:8080/",
          "height": 37
        },
        "id": "fQqenifYXKzw",
        "outputId": "15f9eca4-a9f7-4eb6-8eac-1b5c0e787043"
      },
      "source": [
        "## velocidade de escape da Terra\r\n",
        "G, M, R, v = sp.symbols('G, M, R, v')\r\n",
        "G = 6.67384e-11\r\n",
        "M = 5.9736e+24\r\n",
        "R = 6.3781e+06\r\n",
        "v = sp.sqrt(2 * G * M / R)\r\n",
        "v"
      ],
      "execution_count": 2,
      "outputs": [
        {
          "output_type": "execute_result",
          "data": {
            "image/png": "[encoded data removed]",
            "text/latex": "$$11180.8623348662$$",
            "text/plain": [
              "11180.8623348662"
            ]
          },
          "metadata": {
            "tags": []
          },
          "execution_count": 2
        }
      ]
    },
    {
      "cell_type": "code",
      "metadata": {
        "colab": {
          "base_uri": "https://localhost:8080/",
          "height": 37
        },
        "id": "uMoa9b2EXb6e",
        "outputId": "4395331b-4e7b-440a-cbd8-eaf9abd7589b"
      },
      "source": [
        "## determinando a densidade da Terra\r\n",
        "from math import pi\r\n",
        "rho, c = sp.symbols('rho, c')\r\n",
        "c = 3e+08\r\n",
        "rho = 3 * M / (4 * pi * R ** 3)\r\n",
        "rho"
      ],
      "execution_count": 3,
      "outputs": [
        {
          "output_type": "execute_result",
          "data": {
            "image/png": "[encoded data removed]",
            "text/latex": "$$5496.33957764485$$",
            "text/plain": [
              "5496.33957764485"
            ]
          },
          "metadata": {
            "tags": []
          },
          "execution_count": 3
        }
      ]
    },
    {
      "cell_type": "code",
      "metadata": {
        "colab": {
          "base_uri": "https://localhost:8080/",
          "height": 37
        },
        "id": "IC-J7snij-as",
        "outputId": "e5ec8263-8e88-4fa6-927c-ca270c29d360"
      },
      "source": [
        "## determinado o raio da estrela negra\r\n",
        "from sympy import *\r\n",
        "R_star = sp.symbols('R_star')\r\n",
        "eqn = Eq(sp.sqrt(8 * G * pi * rho / 3)*R_star, c)\r\n",
        "sol = solve(eqn)\r\n",
        "R_star = sol[0]\r\n",
        "R_star"
      ],
      "execution_count": 4,
      "outputs": [
        {
          "output_type": "execute_result",
          "data": {
            "image/png": "[encoded data removed]",
            "text/latex": "$$171134385049.46$$",
            "text/plain": [
              "171134385049.460"
            ]
          },
          "metadata": {
            "tags": []
          },
          "execution_count": 4
        }
      ]
    },
    {
      "cell_type": "code",
      "metadata": {
        "colab": {
          "base_uri": "https://localhost:8080/",
          "height": 37
        },
        "id": "zEI0XGTzozNu",
        "outputId": "a2c4cd90-bc7f-4feb-d043-c57c52fcfb76"
      },
      "source": [
        "## determinando a razão entre o raio da estrela negra e o raio do sol\r\n",
        "R_sun = sp.symbols('R_sun')\r\n",
        "R_sun = 6.9634e+08\r\n",
        "Ratio = R_star / R_sun\r\n",
        "Ratio"
      ],
      "execution_count": 5,
      "outputs": [
        {
          "output_type": "execute_result",
          "data": {
            "image/png": "[encoded data removed]",
            "text/latex": "$$245.762680658098$$",
            "text/plain": [
              "245.762680658098"
            ]
          },
          "metadata": {
            "tags": []
          },
          "execution_count": 5
        }
      ]
    },
    {
      "cell_type": "code",
      "metadata": {
        "colab": {
          "base_uri": "https://localhost:8080/",
          "height": 37
        },
        "id": "-o9eqUIepHMF",
        "outputId": "7c925f17-397b-4b42-b2a3-66e4122dd95a"
      },
      "source": [
        "## determinando a massa da estrela negra\r\n",
        "M_star = sp.symbols('M_star')\r\n",
        "eqn2 = Eq(3 * M_star / (4 * pi * R_star ** 3), rho)\r\n",
        "sol2 = solve(eqn2)\r\n",
        "M_star = sol2[0]\r\n",
        "M_star"
      ],
      "execution_count": 6,
      "outputs": [
        {
          "output_type": "execute_result",
          "data": {
            "image/png": "[encoded data removed]",
            "text/latex": "$$1.1539154860209 \\cdot 10^{38}$$",
            "text/plain": [
              "1.15391548602090e+38"
            ]
          },
          "metadata": {
            "tags": []
          },
          "execution_count": 6
        }
      ]
    },
    {
      "cell_type": "code",
      "metadata": {
        "id": "HXB3oneyEqH3",
        "colab": {
          "base_uri": "https://localhost:8080/",
          "height": 291
        },
        "outputId": "74546efd-25c0-49da-e39b-e5cf2d8b733a"
      },
      "source": [
        "## Velocidade de escape x Razão (R_star/R_sun)\r\n",
        "import matplotlib.pyplot as plt\r\n",
        "import numpy as np\r\n",
        "\r\n",
        "plt.style.use('seaborn-whitegrid')\r\n",
        "fig, ax = plt.subplots()\r\n",
        "\r\n",
        "ratio = np.arange(0, 250, 1)\r\n",
        "v_scape = np.sqrt(8 * G * 3.1415 * ratio * (R_sun ** 2) * rho / 3)\r\n",
        "\r\n",
        "plt.plot(ratio, v_scape, label = 'Velocidade de escape')\r\n",
        "plt.legend(fontsize = 15, frameon = True, facecolor = 'gray', framealpha = 0.2)\r\n",
        "plt.xlabel('R/R_Sol', fontsize = 15)\r\n",
        "plt.ylabel('Velocidade de escape (m/s)', fontsize = 15)\r\n",
        "\r\n",
        "plt.show()"
      ],
      "execution_count": 56,
      "outputs": [
        {
          "output_type": "display_data",
          "data": {
            "image/png": "[encoded data removed]",
            "text/plain": [
              "<Figure size 432x288 with 1 Axes>"
            ]
          },
          "metadata": {
            "tags": []
          }
        }
      ]
    },
    {
      "cell_type": "code",
      "metadata": {
        "id": "PIiuXRzzVWit"
      },
      "source": [
        ""
      ],
      "execution_count": null,
      "outputs": []
    }
  ]
}