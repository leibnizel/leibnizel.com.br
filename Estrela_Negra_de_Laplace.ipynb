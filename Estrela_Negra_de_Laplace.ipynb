{
  "nbformat": 4,
  "nbformat_minor": 0,
  "metadata": {
    "colab": {
      "name": "Estrela Negra de Laplace.ipynb",
      "provenance": [],
      "authorship_tag": "ABX9TyM8wEqW2cHsFCg8KH0H7dIH"
    },
    "kernelspec": {
      "name": "python3",
      "display_name": "Python 3"
    }
  },
  "cells": [
    {
      "cell_type": "code",
      "metadata": {
        "id": "56rlE6snT9_V"
      },
      "source": [
        "import sympy as sp\r\n",
        "%matplotlib inline\r\n",
        "sp.init_printing()"
      ],
      "execution_count": 39,
      "outputs": []
    },
    {
      "cell_type": "code",
      "metadata": {
        "colab": {
          "base_uri": "https://localhost:8080/",
          "height": 37
        },
        "id": "fQqenifYXKzw",
        "outputId": "3744759a-542b-4e07-c30a-ad579abe12e6"
      },
      "source": [
        "## velocidade de escape da Terra\r\n",
        "G, M, R, v = sp.symbols('G, M, R, v')\r\n",
        "G = 6.67384e-11\r\n",
        "M = 5.9736e+24\r\n",
        "R = 6.3781e+06\r\n",
        "v = sp.sqrt(2 * G * M / R)\r\n",
        "v"
      ],
      "execution_count": 40,
      "outputs": [
        {
          "output_type": "execute_result",
          "data": {
            "image/png": "[encoded data removed]",
            "text/latex": "$$11180.8623348662$$",
            "text/plain": [
              "11180.8623348662"
            ]
          },
          "metadata": {
            "tags": []
          },
          "execution_count": 40
        }
      ]
    },
    {
      "cell_type": "code",
      "metadata": {
        "colab": {
          "base_uri": "https://localhost:8080/",
          "height": 37
        },
        "id": "uMoa9b2EXb6e",
        "outputId": "ea3d7550-3a97-4e6d-e051-6861a70c603d"
      },
      "source": [
        "## determinando a densidade da Terra\r\n",
        "from math import pi\r\n",
        "rho, c = sp.symbols('rho, c')\r\n",
        "c = 3e+08\r\n",
        "rho = 3 * M / (4 * pi * R ** 3)\r\n",
        "rho"
      ],
      "execution_count": 41,
      "outputs": [
        {
          "output_type": "execute_result",
          "data": {
            "image/png": "[encoded data removed]",
            "text/latex": "$$5496.33957764485$$",
            "text/plain": [
              "5496.33957764485"
            ]
          },
          "metadata": {
            "tags": []
          },
          "execution_count": 41
        }
      ]
    },
    {
      "cell_type": "code",
      "metadata": {
        "colab": {
          "base_uri": "https://localhost:8080/",
          "height": 37
        },
        "id": "IC-J7snij-as",
        "outputId": "4fff1352-bfb6-4693-f837-70fefadb591b"
      },
      "source": [
        "## determinado o raio da estrela negra\r\n",
        "from sympy import *\r\n",
        "R_star = sp.symbols('R_star')\r\n",
        "eqn = Eq(sp.sqrt(8 * G * pi * rho / 3)*R_star, c)\r\n",
        "sol = solve(eqn)\r\n",
        "R_star = sol[0]\r\n",
        "R_star"
      ],
      "execution_count": 52,
      "outputs": [
        {
          "output_type": "execute_result",
          "data": {
            "image/png": "[encoded data removed]",
            "text/latex": "$$171134385049.46$$",
            "text/plain": [
              "171134385049.460"
            ]
          },
          "metadata": {
            "tags": []
          },
          "execution_count": 52
        }
      ]
    },
    {
      "cell_type": "code",
      "metadata": {
        "colab": {
          "base_uri": "https://localhost:8080/",
          "height": 37
        },
        "id": "zEI0XGTzozNu",
        "outputId": "582bf437-3969-4548-97cb-d7cdefd75ff6"
      },
      "source": [
        "## determinando a razão entre o raio da estrela negra e o raio do sol\r\n",
        "R_sun = sp.symbols('R_sun')\r\n",
        "R_sun = 6.9634e+08\r\n",
        "Ratio = R_star / R_sun\r\n",
        "Ratio"
      ],
      "execution_count": 53,
      "outputs": [
        {
          "output_type": "execute_result",
          "data": {
            "image/png": "[encoded data removed]",
            "text/latex": "$$245.762680658098$$",
            "text/plain": [
              "245.762680658098"
            ]
          },
          "metadata": {
            "tags": []
          },
          "execution_count": 53
        }
      ]
    },
    {
      "cell_type": "code",
      "metadata": {
        "colab": {
          "base_uri": "https://localhost:8080/",
          "height": 37
        },
        "id": "-o9eqUIepHMF",
        "outputId": "6b9e0d99-82d6-45ed-a727-9f6fe308d49c"
      },
      "source": [
        "## determinando a massa da estrela negra\r\n",
        "M_star = sp.symbols('M_star')\r\n",
        "eqn2 = Eq(3 * M_star / (4 * pi * R_star ** 3), rho)\r\n",
        "sol2 = solve(eqn2)\r\n",
        "M_star = sol2[0]\r\n",
        "M_star"
      ],
      "execution_count": 62,
      "outputs": [
        {
          "output_type": "execute_result",
          "data": {
            "image/png": "[encoded data removed]",
            "text/latex": "$$1.1539154860209 \\cdot 10^{38}$$",
            "text/plain": [
              "1.15391548602090e+38"
            ]
          },
          "metadata": {
            "tags": []
          },
          "execution_count": 62
        }
      ]
    },
    {
      "cell_type": "code",
      "metadata": {
        "id": "HXB3oneyEqH3"
      },
      "source": [
        ""
      ],
      "execution_count": null,
      "outputs": []
    }
  ]
}