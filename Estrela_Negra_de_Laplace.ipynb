{
  "nbformat": 4,
  "nbformat_minor": 0,
  "metadata": {
    "colab": {
      "name": "Estrela Negra de Laplace.ipynb",
      "provenance": [],
      "authorship_tag": "ABX9TyO2AUuCDd6/wNVtQwysZHnh",
      "include_colab_link": true
    },
    "kernelspec": {
      "name": "python3",
      "display_name": "Python 3"
    }
  },
  "cells": [
    {
      "cell_type": "markdown",
      "metadata": {
        "id": "view-in-github",
        "colab_type": "text"
      },
      "source": [
        "<a href=\"https://colab.research.google.com/github/leibnizel/leibnizel.com.br/blob/main/Estrela_Negra_de_Laplace.ipynb\" target=\"_parent\"><img src=\"https://colab.research.google.com/assets/colab-badge.svg\" alt=\"Open In Colab\"/></a>"
      ]
    },
    {
      "cell_type": "code",
      "metadata": {
        "id": "56rlE6snT9_V"
      },
      "source": [
        "import sympy as sp\r\n",
        "%matplotlib inline\r\n",
        "sp.init_printing()"
      ],
      "execution_count": 5,
      "outputs": []
    },
    {
      "cell_type": "code",
      "metadata": {
        "colab": {
          "base_uri": "https://localhost:8080/",
          "height": 37
        },
        "id": "fQqenifYXKzw",
        "outputId": "59795b42-7a0c-47e9-8cb3-25ee993b12fc"
      },
      "source": [
        "## velocidade de escape da Terra\r\n",
        "G, M, R, v = sp.symbols('G, M, R, v')\r\n",
        "G = 6.67384e-11\r\n",
        "M = 5.9736e+24\r\n",
        "R = 6.3781e+06\r\n",
        "v = sp.sqrt(2 * G * M / R)\r\n",
        "v"
      ],
      "execution_count": 18,
      "outputs": [
        {
          "output_type": "execute_result",
          "data": {
            "image/png": "[encoded data removed]",
            "text/latex": "$$11180.8623348662$$",
            "text/plain": [
              "11180.8623348662"
            ]
          },
          "metadata": {
            "tags": []
          },
          "execution_count": 18
        }
      ]
    },
    {
      "cell_type": "code",
      "metadata": {
        "colab": {
          "base_uri": "https://localhost:8080/",
          "height": 37
        },
        "id": "uMoa9b2EXb6e",
        "outputId": "30740284-1e86-4ffe-e80a-c085c1914ae3"
      },
      "source": [
        "## determinando a densidade da Terra\r\n",
        "from math import pi\r\n",
        "rho, c = sp.symbols('rho, c')\r\n",
        "c = 3e+08\r\n",
        "rho = 3 * M / (4 * pi * R ** 3)\r\n",
        "rho"
      ],
      "execution_count": 20,
      "outputs": [
        {
          "output_type": "execute_result",
          "data": {
            "image/png": "[encoded data removed]",
            "text/latex": "$$5496.33957764485$$",
            "text/plain": [
              "5496.33957764485"
            ]
          },
          "metadata": {
            "tags": []
          },
          "execution_count": 20
        }
      ]
    },
    {
      "cell_type": "code",
      "metadata": {
        "colab": {
          "base_uri": "https://localhost:8080/",
          "height": 37
        },
        "id": "IC-J7snij-as",
        "outputId": "573bd730-e84d-4d01-f41d-12a11bf1cd25"
      },
      "source": [
        "## determinado o raio da estrela negra\r\n",
        "from sympy import *\r\n",
        "R_star = sp.symbols('R_star')\r\n",
        "eqn = Eq(sp.sqrt(8 * G * pi * rho / 3)*R_star, c)\r\n",
        "solve(eqn, R_star)"
      ],
      "execution_count": 36,
      "outputs": [
        {
          "output_type": "execute_result",
          "data": {
            "image/png": "[encoded data removed]",
            "text/latex": "$$\\left [ 171134385049.46\\right ]$$",
            "text/plain": [
              "[171134385049.46]"
            ]
          },
          "metadata": {
            "tags": []
          },
          "execution_count": 36
        }
      ]
    },
    {
      "cell_type": "code",
      "metadata": {
        "colab": {
          "base_uri": "https://localhost:8080/",
          "height": 37
        },
        "id": "zEI0XGTzozNu",
        "outputId": "78cf449c-11a8-4c2e-cca6-fc94a14de94c"
      },
      "source": [
        "## determinando a razão entre o raio da estrela negra e o sol\r\n",
        "R_sun = sp.symbols('R_sun')\r\n",
        "R_sun = 6.9634e+08\r\n",
        "Ratio = 171134385049.46 / R_sun\r\n",
        "Ratio"
      ],
      "execution_count": 38,
      "outputs": [
        {
          "output_type": "execute_result",
          "data": {
            "image/png": "[encoded data removed]",
            "text/latex": "$$245.76268065809805$$",
            "text/plain": [
              "245.76268065809805"
            ]
          },
          "metadata": {
            "tags": []
          },
          "execution_count": 38
        }
      ]
    },
    {
      "cell_type": "code",
      "metadata": {
        "id": "-o9eqUIepHMF"
      },
      "source": [
        ""
      ],
      "execution_count": null,
      "outputs": []
    }
  ]
}